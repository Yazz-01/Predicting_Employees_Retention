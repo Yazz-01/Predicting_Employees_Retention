{
 "cells": [
  {
   "cell_type": "code",
   "execution_count": 1,
   "metadata": {},
   "outputs": [],
   "source": [
    "import pandas as pd\n",
    "from sklearn.model_selection import train_test_split\n",
    "from sklearn.preprocessing import MinMaxScaler\n",
    "import matplotlib.pyplot as plt\n",
    "import numpy as np\n",
    "from sklearn.metrics import recall_score\n",
    "from sklearn.metrics import classification_report"
   ]
  },
  {
   "cell_type": "code",
   "execution_count": 2,
   "metadata": {},
   "outputs": [
    {
     "data": {
      "text/plain": [
       "Index(['Age', 'Attrition', 'BusinessTravel', 'DailyRate', 'Department',\n",
       "       'DistanceFromHome', 'Education', 'EducationField', 'EmployeeCount',\n",
       "       'EmployeeNumber', 'EnvironmentSatisfaction', 'Gender', 'HourlyRate',\n",
       "       'JobInvolvement', 'JobLevel', 'JobRole', 'JobSatisfaction',\n",
       "       'MaritalStatus', 'MonthlyIncome', 'MonthlyRate', 'NumCompaniesWorked',\n",
       "       'Over18', 'OverTime', 'PercentSalaryHike', 'PerformanceRating',\n",
       "       'RelationshipSatisfaction', 'StandardHours', 'StockOptionLevel',\n",
       "       'TotalWorkingYears', 'TrainingTimesLastYear', 'WorkLifeBalance',\n",
       "       'YearsAtCompany', 'YearsInCurrentRole', 'YearsSinceLastPromotion',\n",
       "       'YearsWithCurrManager', 'PromotionRatio', 'ManagerRatio',\n",
       "       'CompanyRatio', 'SpecificIncome', 'Role-Ratio', 'Role-Manager-Ratio',\n",
       "       'Yearspercompany', 'Time_in_each_comp', 'TotalSatisfaction_mean',\n",
       "       'Income_YearsComp', 'Income_Distance', 'Fidelity', 'Stability',\n",
       "       'Hrate_Mrate', 'SalesDpt'],\n",
       "      dtype='object')"
      ]
     },
     "execution_count": 2,
     "metadata": {},
     "output_type": "execute_result"
    }
   ],
   "source": [
    "df = pd.read_csv(\"WA_Fn-UseC_-HR-Employee-Attrition.csv\")\n",
    "# Drop the null columns where all values are null\n",
    "df = df.dropna(axis='columns', how='all')\n",
    "# Drop the null rows\n",
    "df['PromotionRatio']=df['YearsSinceLastPromotion']/df['YearsAtCompany']\n",
    "df['PromotionRatio'] = df['PromotionRatio'].fillna(0)\n",
    "df['PromotionRatio'].replace(np.inf,0)\n",
    "\n",
    "df['ManagerRatio']=df['YearsWithCurrManager']/df['YearsAtCompany']\n",
    "df['ManagerRatio'] = df['ManagerRatio'].fillna(0)\n",
    "df['ManagerRatio'].replace(np.inf,0)\n",
    "\n",
    "df['CompanyRatio']=df['YearsAtCompany']/df['TotalWorkingYears']\n",
    "df['CompanyRatio'] = df['CompanyRatio'].fillna(0)\n",
    "df['CompanyRatio'].replace(np.inf,0)\n",
    "\n",
    "df['SpecificIncome']=df['MonthlyIncome']/np.mean(df['MonthlyIncome'])\n",
    "df['SpecificIncome'] = df['SpecificIncome'].fillna(0)\n",
    "\n",
    "\n",
    "df['Role-Ratio']=df['YearsInCurrentRole']/df['YearsAtCompany']\n",
    "df['Role-Ratio'] = df['Role-Ratio'].fillna(0)\n",
    "df['Role-Ratio'] = df['Role-Ratio'].replace(np.inf,0)\n",
    "\n",
    "df['Role-Manager-Ratio']=df['YearsInCurrentRole']/df['YearsWithCurrManager']\n",
    "df['Role-Manager-Ratio'] = df['Role-Manager-Ratio'].fillna(0)\n",
    "df['Role-Manager-Ratio']= df['Role-Manager-Ratio'].replace(np.inf,0)\n",
    "\n",
    "df['Yearspercompany']=(df['TotalWorkingYears']/df['NumCompaniesWorked']+1)\n",
    "df['Yearspercompany'] = df['Yearspercompany'].fillna(0)\n",
    "df['Yearspercompany'] = df['Yearspercompany'].replace(np.inf,0)\n",
    "\n",
    "#df = df.dropna()\n",
    "# Adding new variables\n",
    "df['Time_in_each_comp'] = (df['Age']-20) / ((df)['NumCompaniesWorked']+1)\n",
    "df['TotalSatisfaction_mean'] = (df['RelationshipSatisfaction']  + df['EnvironmentSatisfaction'] + df['JobSatisfaction'] + df['JobInvolvement'] + df['WorkLifeBalance'])/5\n",
    "df['Income_YearsComp'] = df['MonthlyIncome'] / df['YearsAtCompany']\n",
    "df['Income_YearsComp'] = df['Income_YearsComp'].replace(np.Inf, 0)\n",
    "df['Income_Distance'] = df['MonthlyIncome'] / df['DistanceFromHome']\n",
    "df['Fidelity'] = (df['NumCompaniesWorked']) / df['TotalWorkingYears']\n",
    "df['Fidelity'] = df['Fidelity'].replace(np.Inf, 0)\n",
    "df['Stability'] = df['YearsInCurrentRole'] / df['YearsAtCompany']\n",
    "df['Stability'].fillna((df['Stability'].mean()), inplace=True)\n",
    "df['Hrate_Mrate'] = df['HourlyRate'] / df['MonthlyRate']\n",
    "def SalesDpt(df) :\n",
    "    if df['Department'] == 'Sales':\n",
    "        return 1\n",
    "    else:\n",
    "        return 0\n",
    "df['SalesDpt'] = df.apply(lambda df:SalesDpt(df) ,axis = 1)\n",
    "\n",
    "df.columns"
   ]
  },
  {
   "cell_type": "code",
   "execution_count": null,
   "metadata": {},
   "outputs": [],
   "source": [
    "\n"
   ]
  },
  {
   "cell_type": "code",
   "execution_count": 3,
   "metadata": {},
   "outputs": [],
   "source": [
    "#'Age','Attrition','DistanceFromHome','EnvironmentSatisfaction','Gender','HourlyRate','JobLevel','JobSatisfaction','MaritalStatus',\n",
    "#'MonthlyIncome','NumCompaniesWorked','PercentSalaryHike','PerformanceRating','RelationshipSatisfaction','StockOptionLevel',\n",
    "#'TotalWorkingYears','TrainingTimesLastYear','WorkLifeBalance','YearsAtCompany','YearsInCurrentRole','YearsSinceLastPromotion','YearsWithCurrManager'\n",
    "\n",
    "# features=['Age','DistanceFromHome','EnvironmentSatisfaction','Gender','HourlyRate','JobLevel','JobSatisfaction','MaritalStatus',\n",
    "# 'MonthlyIncome','NumCompaniesWorked','PercentSalaryHike','PerformanceRating','RelationshipSatisfaction','StockOptionLevel',\n",
    "# 'TotalWorkingYears','TrainingTimesLastYear','WorkLifeBalance','YearsAtCompany','YearsInCurrentRole','YearsSinceLastPromotion','YearsWithCurrManager']\n",
    "\n",
    "features=['Age','DistanceFromHome','EnvironmentSatisfaction','JobSatisfaction','MaritalStatus',\n",
    "         'MonthlyIncome','NumCompaniesWorked','TotalWorkingYears','TrainingTimesLastYear',\n",
    "          'WorkLifeBalance','YearsSinceLastPromotion']\n",
    "\n",
    "\n",
    "# features=['TrainingTimesLastYear',\n",
    "# 'DistanceFromHome',\n",
    "# 'JobSatisfaction',\n",
    "# 'MaritalStatus',\n",
    "# 'TotalWorkingYears']\n",
    "\n",
    "features=['JobSatisfaction',\n",
    "         'DistanceFromHome',\n",
    "         'WorkLifeBalance',\n",
    "         'NumCompaniesWorked',\n",
    "         'EnvironmentSatisfaction',\n",
    "         'YearsAtCompany','JobLevel','Department'\n",
    "         ]\n",
    "#'Hrate_Mrate' removed due to increased performance without it\n",
    "#'Stability' Removed due to no increased effect from it\n",
    "features=['OverTime', 'Fidelity',  'SalesDpt', 'MaritalStatus', 'Gender']"
   ]
  },
  {
   "cell_type": "code",
   "execution_count": 4,
   "metadata": {},
   "outputs": [],
   "source": [
    "#select features\n",
    "data=df[features]\n",
    "data_binary_encoded = pd.get_dummies(data)\n",
    "X=data_binary_encoded\n",
    "y=df[\"Attrition\"].replace({'Yes': 1, 'No': 0})\n"
   ]
  },
  {
   "cell_type": "code",
   "execution_count": 5,
   "metadata": {},
   "outputs": [],
   "source": [
    "#Splitting and scaling the data\n",
    "X_train, X_test, y_train, y_test = train_test_split(X, y, random_state=1)\n",
    "X_scaler = MinMaxScaler().fit(X_train)\n",
    "X_train_scaled = X_scaler.transform(X_train)\n",
    "X_test_scaled = X_scaler.transform(X_test)\n"
   ]
  },
  {
   "cell_type": "code",
   "execution_count": 6,
   "metadata": {},
   "outputs": [
    {
     "name": "stdout",
     "output_type": "stream",
     "text": [
      "Training score: 0.8629764065335753\n",
      "Test score: 0.8206521739130435\n"
     ]
    }
   ],
   "source": [
    "#Train the model\n",
    "from sklearn.linear_model import LogisticRegression\n",
    "model = LogisticRegression()\n",
    "model = model.fit(X_train_scaled, y_train)\n",
    "print(f\"Training score: {model.score(X_train_scaled,y_train)}\")\n",
    "print(f\"Test score: {model.score(X_test_scaled,y_test)}\")"
   ]
  },
  {
   "cell_type": "code",
   "execution_count": 7,
   "metadata": {},
   "outputs": [
    {
     "data": {
      "text/plain": [
       "dict_keys(['C', 'class_weight', 'dual', 'fit_intercept', 'intercept_scaling', 'l1_ratio', 'max_iter', 'multi_class', 'n_jobs', 'penalty', 'random_state', 'solver', 'tol', 'verbose', 'warm_start'])"
      ]
     },
     "execution_count": 7,
     "metadata": {},
     "output_type": "execute_result"
    }
   ],
   "source": [
    "model.get_params().keys()"
   ]
  },
  {
   "cell_type": "code",
   "execution_count": 8,
   "metadata": {},
   "outputs": [
    {
     "name": "stdout",
     "output_type": "stream",
     "text": [
      "Fitting 5 folds for each of 40 candidates, totalling 200 fits\n",
      "[CV 1/5] END .........C=0.0001, penalty=l1, solver=liblinear; total time=   0.0s\n",
      "[CV 2/5] END .........C=0.0001, penalty=l1, solver=liblinear; total time=   0.0s\n",
      "[CV 3/5] END .........C=0.0001, penalty=l1, solver=liblinear; total time=   0.0s\n",
      "[CV 4/5] END .........C=0.0001, penalty=l1, solver=liblinear; total time=   0.0s\n",
      "[CV 5/5] END .........C=0.0001, penalty=l1, solver=liblinear; total time=   0.0s\n",
      "[CV 1/5] END .........C=0.0001, penalty=l2, solver=liblinear; total time=   0.0s\n",
      "[CV 2/5] END .........C=0.0001, penalty=l2, solver=liblinear; total time=   0.0s\n",
      "[CV 3/5] END .........C=0.0001, penalty=l2, solver=liblinear; total time=   0.0s\n",
      "[CV 4/5] END .........C=0.0001, penalty=l2, solver=liblinear; total time=   0.0s\n",
      "[CV 5/5] END .........C=0.0001, penalty=l2, solver=liblinear; total time=   0.0s\n",
      "[CV 1/5] END C=0.00026366508987303583, penalty=l1, solver=liblinear; total time=   0.0s\n",
      "[CV 2/5] END C=0.00026366508987303583, penalty=l1, solver=liblinear; total time=   0.0s\n",
      "[CV 3/5] END C=0.00026366508987303583, penalty=l1, solver=liblinear; total time=   0.0s\n",
      "[CV 4/5] END C=0.00026366508987303583, penalty=l1, solver=liblinear; total time=   0.0s\n",
      "[CV 5/5] END C=0.00026366508987303583, penalty=l1, solver=liblinear; total time=   0.0s\n",
      "[CV 1/5] END C=0.00026366508987303583, penalty=l2, solver=liblinear; total time=   0.0s\n",
      "[CV 2/5] END C=0.00026366508987303583, penalty=l2, solver=liblinear; total time=   0.0s\n",
      "[CV 3/5] END C=0.00026366508987303583, penalty=l2, solver=liblinear; total time=   0.0s\n",
      "[CV 4/5] END C=0.00026366508987303583, penalty=l2, solver=liblinear; total time=   0.0s\n",
      "[CV 5/5] END C=0.00026366508987303583, penalty=l2, solver=liblinear; total time=   0.0s\n",
      "[CV 1/5] END C=0.0006951927961775605, penalty=l1, solver=liblinear; total time=   0.0s\n",
      "[CV 2/5] END C=0.0006951927961775605, penalty=l1, solver=liblinear; total time=   0.0s\n",
      "[CV 3/5] END C=0.0006951927961775605, penalty=l1, solver=liblinear; total time=   0.0s\n",
      "[CV 4/5] END C=0.0006951927961775605, penalty=l1, solver=liblinear; total time=   0.0s\n",
      "[CV 5/5] END C=0.0006951927961775605, penalty=l1, solver=liblinear; total time=   0.0s\n",
      "[CV 1/5] END C=0.0006951927961775605, penalty=l2, solver=liblinear; total time=   0.0s\n",
      "[CV 2/5] END C=0.0006951927961775605, penalty=l2, solver=liblinear; total time=   0.0s\n",
      "[CV 3/5] END C=0.0006951927961775605, penalty=l2, solver=liblinear; total time=   0.0s\n",
      "[CV 4/5] END C=0.0006951927961775605, penalty=l2, solver=liblinear; total time=   0.0s\n",
      "[CV 5/5] END C=0.0006951927961775605, penalty=l2, solver=liblinear; total time=   0.0s\n",
      "[CV 1/5] END C=0.0018329807108324356, penalty=l1, solver=liblinear; total time=   0.0s\n",
      "[CV 2/5] END C=0.0018329807108324356, penalty=l1, solver=liblinear; total time=   0.0s\n",
      "[CV 3/5] END C=0.0018329807108324356, penalty=l1, solver=liblinear; total time=   0.0s\n",
      "[CV 4/5] END C=0.0018329807108324356, penalty=l1, solver=liblinear; total time=   0.0s\n",
      "[CV 5/5] END C=0.0018329807108324356, penalty=l1, solver=liblinear; total time=   0.0s\n",
      "[CV 1/5] END C=0.0018329807108324356, penalty=l2, solver=liblinear; total time=   0.0s\n",
      "[CV 2/5] END C=0.0018329807108324356, penalty=l2, solver=liblinear; total time=   0.0s\n",
      "[CV 3/5] END C=0.0018329807108324356, penalty=l2, solver=liblinear; total time=   0.0s\n",
      "[CV 4/5] END C=0.0018329807108324356, penalty=l2, solver=liblinear; total time=   0.0s\n",
      "[CV 5/5] END C=0.0018329807108324356, penalty=l2, solver=liblinear; total time=   0.0s\n",
      "[CV 1/5] END C=0.004832930238571752, penalty=l1, solver=liblinear; total time=   0.0s\n",
      "[CV 2/5] END C=0.004832930238571752, penalty=l1, solver=liblinear; total time=   0.0s\n",
      "[CV 3/5] END C=0.004832930238571752, penalty=l1, solver=liblinear; total time=   0.0s\n",
      "[CV 4/5] END C=0.004832930238571752, penalty=l1, solver=liblinear; total time=   0.0s\n",
      "[CV 5/5] END C=0.004832930238571752, penalty=l1, solver=liblinear; total time=   0.0s\n",
      "[CV 1/5] END C=0.004832930238571752, penalty=l2, solver=liblinear; total time=   0.0s\n",
      "[CV 2/5] END C=0.004832930238571752, penalty=l2, solver=liblinear; total time=   0.0s\n",
      "[CV 3/5] END C=0.004832930238571752, penalty=l2, solver=liblinear; total time=   0.0s\n",
      "[CV 4/5] END C=0.004832930238571752, penalty=l2, solver=liblinear; total time=   0.0s\n",
      "[CV 5/5] END C=0.004832930238571752, penalty=l2, solver=liblinear; total time=   0.0s\n",
      "[CV 1/5] END C=0.012742749857031334, penalty=l1, solver=liblinear; total time=   0.0s\n",
      "[CV 2/5] END C=0.012742749857031334, penalty=l1, solver=liblinear; total time=   0.0s\n",
      "[CV 3/5] END C=0.012742749857031334, penalty=l1, solver=liblinear; total time=   0.0s\n",
      "[CV 4/5] END C=0.012742749857031334, penalty=l1, solver=liblinear; total time=   0.0s\n",
      "[CV 5/5] END C=0.012742749857031334, penalty=l1, solver=liblinear; total time=   0.0s\n",
      "[CV 1/5] END C=0.012742749857031334, penalty=l2, solver=liblinear; total time=   0.0s\n",
      "[CV 2/5] END C=0.012742749857031334, penalty=l2, solver=liblinear; total time=   0.0s\n",
      "[CV 3/5] END C=0.012742749857031334, penalty=l2, solver=liblinear; total time=   0.0s\n",
      "[CV 4/5] END C=0.012742749857031334, penalty=l2, solver=liblinear; total time=   0.0s\n",
      "[CV 5/5] END C=0.012742749857031334, penalty=l2, solver=liblinear; total time=   0.0s\n",
      "[CV 1/5] END C=0.03359818286283781, penalty=l1, solver=liblinear; total time=   0.0s\n",
      "[CV 2/5] END C=0.03359818286283781, penalty=l1, solver=liblinear; total time=   0.0s\n",
      "[CV 3/5] END C=0.03359818286283781, penalty=l1, solver=liblinear; total time=   0.0s\n",
      "[CV 4/5] END C=0.03359818286283781, penalty=l1, solver=liblinear; total time=   0.0s\n",
      "[CV 5/5] END C=0.03359818286283781, penalty=l1, solver=liblinear; total time=   0.0s\n",
      "[CV 1/5] END C=0.03359818286283781, penalty=l2, solver=liblinear; total time=   0.0s\n",
      "[CV 2/5] END C=0.03359818286283781, penalty=l2, solver=liblinear; total time=   0.0s\n",
      "[CV 3/5] END C=0.03359818286283781, penalty=l2, solver=liblinear; total time=   0.0s\n",
      "[CV 4/5] END C=0.03359818286283781, penalty=l2, solver=liblinear; total time=   0.0s\n",
      "[CV 5/5] END C=0.03359818286283781, penalty=l2, solver=liblinear; total time=   0.0s\n",
      "[CV 1/5] END C=0.08858667904100823, penalty=l1, solver=liblinear; total time=   0.0s\n",
      "[CV 2/5] END C=0.08858667904100823, penalty=l1, solver=liblinear; total time=   0.0s\n",
      "[CV 3/5] END C=0.08858667904100823, penalty=l1, solver=liblinear; total time=   0.0s\n",
      "[CV 4/5] END C=0.08858667904100823, penalty=l1, solver=liblinear; total time=   0.0s\n",
      "[CV 5/5] END C=0.08858667904100823, penalty=l1, solver=liblinear; total time=   0.0s\n",
      "[CV 1/5] END C=0.08858667904100823, penalty=l2, solver=liblinear; total time=   0.0s\n",
      "[CV 2/5] END C=0.08858667904100823, penalty=l2, solver=liblinear; total time=   0.0s\n",
      "[CV 3/5] END C=0.08858667904100823, penalty=l2, solver=liblinear; total time=   0.0s\n",
      "[CV 4/5] END C=0.08858667904100823, penalty=l2, solver=liblinear; total time=   0.0s\n",
      "[CV 5/5] END C=0.08858667904100823, penalty=l2, solver=liblinear; total time=   0.0s\n",
      "[CV 1/5] END C=0.23357214690901212, penalty=l1, solver=liblinear; total time=   0.0s\n",
      "[CV 2/5] END C=0.23357214690901212, penalty=l1, solver=liblinear; total time=   0.0s\n",
      "[CV 3/5] END C=0.23357214690901212, penalty=l1, solver=liblinear; total time=   0.0s\n",
      "[CV 4/5] END C=0.23357214690901212, penalty=l1, solver=liblinear; total time=   0.0s\n",
      "[CV 5/5] END C=0.23357214690901212, penalty=l1, solver=liblinear; total time=   0.0s\n",
      "[CV 1/5] END C=0.23357214690901212, penalty=l2, solver=liblinear; total time=   0.0s\n",
      "[CV 2/5] END C=0.23357214690901212, penalty=l2, solver=liblinear; total time=   0.0s\n",
      "[CV 3/5] END C=0.23357214690901212, penalty=l2, solver=liblinear; total time=   0.0s\n",
      "[CV 4/5] END C=0.23357214690901212, penalty=l2, solver=liblinear; total time=   0.0s\n",
      "[CV 5/5] END C=0.23357214690901212, penalty=l2, solver=liblinear; total time=   0.0s\n",
      "[CV 1/5] END C=0.615848211066026, penalty=l1, solver=liblinear; total time=   0.0s\n",
      "[CV 2/5] END C=0.615848211066026, penalty=l1, solver=liblinear; total time=   0.0s\n",
      "[CV 3/5] END C=0.615848211066026, penalty=l1, solver=liblinear; total time=   0.0s\n",
      "[CV 4/5] END C=0.615848211066026, penalty=l1, solver=liblinear; total time=   0.0s\n",
      "[CV 5/5] END C=0.615848211066026, penalty=l1, solver=liblinear; total time=   0.0s\n",
      "[CV 1/5] END C=0.615848211066026, penalty=l2, solver=liblinear; total time=   0.0s\n",
      "[CV 2/5] END C=0.615848211066026, penalty=l2, solver=liblinear; total time=   0.0s\n",
      "[CV 3/5] END C=0.615848211066026, penalty=l2, solver=liblinear; total time=   0.0s\n",
      "[CV 4/5] END C=0.615848211066026, penalty=l2, solver=liblinear; total time=   0.0s\n",
      "[CV 5/5] END C=0.615848211066026, penalty=l2, solver=liblinear; total time=   0.0s\n",
      "[CV 1/5] END C=1.623776739188721, penalty=l1, solver=liblinear; total time=   0.0s\n",
      "[CV 2/5] END C=1.623776739188721, penalty=l1, solver=liblinear; total time=   0.0s\n",
      "[CV 3/5] END C=1.623776739188721, penalty=l1, solver=liblinear; total time=   0.0s\n",
      "[CV 4/5] END C=1.623776739188721, penalty=l1, solver=liblinear; total time=   0.0s\n",
      "[CV 5/5] END C=1.623776739188721, penalty=l1, solver=liblinear; total time=   0.0s\n",
      "[CV 1/5] END C=1.623776739188721, penalty=l2, solver=liblinear; total time=   0.0s\n",
      "[CV 2/5] END C=1.623776739188721, penalty=l2, solver=liblinear; total time=   0.0s\n",
      "[CV 3/5] END C=1.623776739188721, penalty=l2, solver=liblinear; total time=   0.0s\n",
      "[CV 4/5] END C=1.623776739188721, penalty=l2, solver=liblinear; total time=   0.0s\n",
      "[CV 5/5] END C=1.623776739188721, penalty=l2, solver=liblinear; total time=   0.0s\n",
      "[CV 1/5] END C=4.281332398719396, penalty=l1, solver=liblinear; total time=   0.0s\n",
      "[CV 2/5] END C=4.281332398719396, penalty=l1, solver=liblinear; total time=   0.0s\n",
      "[CV 3/5] END C=4.281332398719396, penalty=l1, solver=liblinear; total time=   0.0s\n",
      "[CV 4/5] END C=4.281332398719396, penalty=l1, solver=liblinear; total time=   0.0s\n",
      "[CV 5/5] END C=4.281332398719396, penalty=l1, solver=liblinear; total time=   0.0s\n",
      "[CV 1/5] END C=4.281332398719396, penalty=l2, solver=liblinear; total time=   0.0s\n",
      "[CV 2/5] END C=4.281332398719396, penalty=l2, solver=liblinear; total time=   0.0s\n",
      "[CV 3/5] END C=4.281332398719396, penalty=l2, solver=liblinear; total time=   0.0s\n",
      "[CV 4/5] END C=4.281332398719396, penalty=l2, solver=liblinear; total time=   0.0s\n",
      "[CV 5/5] END C=4.281332398719396, penalty=l2, solver=liblinear; total time=   0.0s\n",
      "[CV 1/5] END C=11.288378916846883, penalty=l1, solver=liblinear; total time=   0.0s\n",
      "[CV 2/5] END C=11.288378916846883, penalty=l1, solver=liblinear; total time=   0.0s\n",
      "[CV 3/5] END C=11.288378916846883, penalty=l1, solver=liblinear; total time=   0.0s\n",
      "[CV 4/5] END C=11.288378916846883, penalty=l1, solver=liblinear; total time=   0.0s\n",
      "[CV 5/5] END C=11.288378916846883, penalty=l1, solver=liblinear; total time=   0.0s\n",
      "[CV 1/5] END C=11.288378916846883, penalty=l2, solver=liblinear; total time=   0.0s\n",
      "[CV 2/5] END C=11.288378916846883, penalty=l2, solver=liblinear; total time=   0.0s\n",
      "[CV 3/5] END C=11.288378916846883, penalty=l2, solver=liblinear; total time=   0.0s\n",
      "[CV 4/5] END C=11.288378916846883, penalty=l2, solver=liblinear; total time=   0.0s\n",
      "[CV 5/5] END C=11.288378916846883, penalty=l2, solver=liblinear; total time=   0.0s\n",
      "[CV 1/5] END C=29.763514416313132, penalty=l1, solver=liblinear; total time=   0.0s\n",
      "[CV 2/5] END C=29.763514416313132, penalty=l1, solver=liblinear; total time=   0.0s\n",
      "[CV 3/5] END C=29.763514416313132, penalty=l1, solver=liblinear; total time=   0.0s\n"
     ]
    },
    {
     "name": "stdout",
     "output_type": "stream",
     "text": [
      "[CV 4/5] END C=29.763514416313132, penalty=l1, solver=liblinear; total time=   0.0s\n",
      "[CV 5/5] END C=29.763514416313132, penalty=l1, solver=liblinear; total time=   0.0s\n",
      "[CV 1/5] END C=29.763514416313132, penalty=l2, solver=liblinear; total time=   0.0s\n",
      "[CV 2/5] END C=29.763514416313132, penalty=l2, solver=liblinear; total time=   0.0s\n",
      "[CV 3/5] END C=29.763514416313132, penalty=l2, solver=liblinear; total time=   0.0s\n",
      "[CV 4/5] END C=29.763514416313132, penalty=l2, solver=liblinear; total time=   0.0s\n",
      "[CV 5/5] END C=29.763514416313132, penalty=l2, solver=liblinear; total time=   0.0s\n",
      "[CV 1/5] END C=78.47599703514607, penalty=l1, solver=liblinear; total time=   0.0s\n",
      "[CV 2/5] END C=78.47599703514607, penalty=l1, solver=liblinear; total time=   0.0s\n",
      "[CV 3/5] END C=78.47599703514607, penalty=l1, solver=liblinear; total time=   0.0s\n",
      "[CV 4/5] END C=78.47599703514607, penalty=l1, solver=liblinear; total time=   0.0s\n",
      "[CV 5/5] END C=78.47599703514607, penalty=l1, solver=liblinear; total time=   0.0s\n",
      "[CV 1/5] END C=78.47599703514607, penalty=l2, solver=liblinear; total time=   0.0s\n",
      "[CV 2/5] END C=78.47599703514607, penalty=l2, solver=liblinear; total time=   0.0s\n",
      "[CV 3/5] END C=78.47599703514607, penalty=l2, solver=liblinear; total time=   0.0s\n",
      "[CV 4/5] END C=78.47599703514607, penalty=l2, solver=liblinear; total time=   0.0s\n",
      "[CV 5/5] END C=78.47599703514607, penalty=l2, solver=liblinear; total time=   0.0s\n",
      "[CV 1/5] END C=206.913808111479, penalty=l1, solver=liblinear; total time=   0.0s\n",
      "[CV 2/5] END C=206.913808111479, penalty=l1, solver=liblinear; total time=   0.0s\n",
      "[CV 3/5] END C=206.913808111479, penalty=l1, solver=liblinear; total time=   0.0s\n",
      "[CV 4/5] END C=206.913808111479, penalty=l1, solver=liblinear; total time=   0.0s\n",
      "[CV 5/5] END C=206.913808111479, penalty=l1, solver=liblinear; total time=   0.0s\n",
      "[CV 1/5] END C=206.913808111479, penalty=l2, solver=liblinear; total time=   0.0s\n",
      "[CV 2/5] END C=206.913808111479, penalty=l2, solver=liblinear; total time=   0.0s\n",
      "[CV 3/5] END C=206.913808111479, penalty=l2, solver=liblinear; total time=   0.0s\n",
      "[CV 4/5] END C=206.913808111479, penalty=l2, solver=liblinear; total time=   0.0s\n",
      "[CV 5/5] END C=206.913808111479, penalty=l2, solver=liblinear; total time=   0.0s\n",
      "[CV 1/5] END C=545.5594781168514, penalty=l1, solver=liblinear; total time=   0.0s\n",
      "[CV 2/5] END C=545.5594781168514, penalty=l1, solver=liblinear; total time=   0.0s\n",
      "[CV 3/5] END C=545.5594781168514, penalty=l1, solver=liblinear; total time=   0.0s\n",
      "[CV 4/5] END C=545.5594781168514, penalty=l1, solver=liblinear; total time=   0.0s\n",
      "[CV 5/5] END C=545.5594781168514, penalty=l1, solver=liblinear; total time=   0.0s\n",
      "[CV 1/5] END C=545.5594781168514, penalty=l2, solver=liblinear; total time=   0.0s\n",
      "[CV 2/5] END C=545.5594781168514, penalty=l2, solver=liblinear; total time=   0.0s\n",
      "[CV 3/5] END C=545.5594781168514, penalty=l2, solver=liblinear; total time=   0.0s\n",
      "[CV 4/5] END C=545.5594781168514, penalty=l2, solver=liblinear; total time=   0.0s\n",
      "[CV 5/5] END C=545.5594781168514, penalty=l2, solver=liblinear; total time=   0.0s\n",
      "[CV 1/5] END C=1438.44988828766, penalty=l1, solver=liblinear; total time=   0.0s\n",
      "[CV 2/5] END C=1438.44988828766, penalty=l1, solver=liblinear; total time=   0.0s\n",
      "[CV 3/5] END C=1438.44988828766, penalty=l1, solver=liblinear; total time=   0.0s\n",
      "[CV 4/5] END C=1438.44988828766, penalty=l1, solver=liblinear; total time=   0.0s\n",
      "[CV 5/5] END C=1438.44988828766, penalty=l1, solver=liblinear; total time=   0.0s\n",
      "[CV 1/5] END C=1438.44988828766, penalty=l2, solver=liblinear; total time=   0.0s\n",
      "[CV 2/5] END C=1438.44988828766, penalty=l2, solver=liblinear; total time=   0.0s\n",
      "[CV 3/5] END C=1438.44988828766, penalty=l2, solver=liblinear; total time=   0.0s\n",
      "[CV 4/5] END C=1438.44988828766, penalty=l2, solver=liblinear; total time=   0.0s\n",
      "[CV 5/5] END C=1438.44988828766, penalty=l2, solver=liblinear; total time=   0.0s\n",
      "[CV 1/5] END C=3792.690190732246, penalty=l1, solver=liblinear; total time=   0.0s\n",
      "[CV 2/5] END C=3792.690190732246, penalty=l1, solver=liblinear; total time=   0.0s\n",
      "[CV 3/5] END C=3792.690190732246, penalty=l1, solver=liblinear; total time=   0.0s\n",
      "[CV 4/5] END C=3792.690190732246, penalty=l1, solver=liblinear; total time=   0.0s\n",
      "[CV 5/5] END C=3792.690190732246, penalty=l1, solver=liblinear; total time=   0.0s\n",
      "[CV 1/5] END C=3792.690190732246, penalty=l2, solver=liblinear; total time=   0.0s\n",
      "[CV 2/5] END C=3792.690190732246, penalty=l2, solver=liblinear; total time=   0.0s\n",
      "[CV 3/5] END C=3792.690190732246, penalty=l2, solver=liblinear; total time=   0.0s\n",
      "[CV 4/5] END C=3792.690190732246, penalty=l2, solver=liblinear; total time=   0.0s\n",
      "[CV 5/5] END C=3792.690190732246, penalty=l2, solver=liblinear; total time=   0.0s\n",
      "[CV 1/5] END ........C=10000.0, penalty=l1, solver=liblinear; total time=   0.0s\n",
      "[CV 2/5] END ........C=10000.0, penalty=l1, solver=liblinear; total time=   0.0s\n",
      "[CV 3/5] END ........C=10000.0, penalty=l1, solver=liblinear; total time=   0.0s\n",
      "[CV 4/5] END ........C=10000.0, penalty=l1, solver=liblinear; total time=   0.0s\n",
      "[CV 5/5] END ........C=10000.0, penalty=l1, solver=liblinear; total time=   0.0s\n",
      "[CV 1/5] END ........C=10000.0, penalty=l2, solver=liblinear; total time=   0.0s\n",
      "[CV 2/5] END ........C=10000.0, penalty=l2, solver=liblinear; total time=   0.0s\n",
      "[CV 3/5] END ........C=10000.0, penalty=l2, solver=liblinear; total time=   0.0s\n",
      "[CV 4/5] END ........C=10000.0, penalty=l2, solver=liblinear; total time=   0.0s\n",
      "[CV 5/5] END ........C=10000.0, penalty=l2, solver=liblinear; total time=   0.0s\n"
     ]
    },
    {
     "data": {
      "text/plain": [
       "GridSearchCV(estimator=LogisticRegression(),\n",
       "             param_grid=[{'C': array([1.00000000e-04, 2.63665090e-04, 6.95192796e-04, 1.83298071e-03,\n",
       "       4.83293024e-03, 1.27427499e-02, 3.35981829e-02, 8.85866790e-02,\n",
       "       2.33572147e-01, 6.15848211e-01, 1.62377674e+00, 4.28133240e+00,\n",
       "       1.12883789e+01, 2.97635144e+01, 7.84759970e+01, 2.06913808e+02,\n",
       "       5.45559478e+02, 1.43844989e+03, 3.79269019e+03, 1.00000000e+04]),\n",
       "                          'penalty': ['l1', 'l2'], 'solver': ['liblinear']}],\n",
       "             verbose=3)"
      ]
     },
     "execution_count": 8,
     "metadata": {},
     "output_type": "execute_result"
    }
   ],
   "source": [
    "from sklearn.model_selection import GridSearchCV\n",
    "param_grid = [\n",
    "    {'penalty' : ['l1', 'l2'],\n",
    "    'C' : np.logspace(-4, 4, 20),\n",
    "    'solver' : ['liblinear']}\n",
    "]\n",
    "grid = GridSearchCV(LogisticRegression(), param_grid, verbose=3)\n",
    "grid.fit(X_train_scaled, y_train)"
   ]
  },
  {
   "cell_type": "code",
   "execution_count": 9,
   "metadata": {},
   "outputs": [
    {
     "name": "stdout",
     "output_type": "stream",
     "text": [
      "{'C': 29.763514416313132, 'penalty': 'l2', 'solver': 'liblinear'}\n",
      "0.8620526532291238\n"
     ]
    }
   ],
   "source": [
    "print(grid.best_params_)\n",
    "print(grid.best_score_)"
   ]
  },
  {
   "cell_type": "code",
   "execution_count": 10,
   "metadata": {},
   "outputs": [
    {
     "data": {
      "text/plain": [
       "array([[ 3.91724024,  0.66253845, -1.25838087,  0.22612764, -0.85173551,\n",
       "        -0.55692495,  0.37640723, -0.74500192, -0.2872513 ]])"
      ]
     },
     "execution_count": 10,
     "metadata": {},
     "output_type": "execute_result"
    }
   ],
   "source": [
    "model2=grid.best_estimator_\n",
    "weights=model2.coef_\n",
    "weights"
   ]
  },
  {
   "cell_type": "code",
   "execution_count": 11,
   "metadata": {
    "scrolled": true
   },
   "outputs": [
    {
     "name": "stdout",
     "output_type": "stream",
     "text": [
      "Fidelity: \t 3.9172402421674195\n",
      "SalesDpt: \t 0.66253845316328\n",
      "OverTime_No: \t 1.2583808673029049\n",
      "OverTime_Yes: \t 0.22612764210838449\n",
      "MaritalStatus_Divorced: \t 0.8517355063937327\n",
      "MaritalStatus_Married: \t 0.5569249516586932\n",
      "MaritalStatus_Single: \t 0.3764072328579391\n",
      "Gender_Female: \t 0.74500192240567\n",
      "Gender_Male: \t 0.2872513027888623\n"
     ]
    }
   ],
   "source": [
    "for i, name in enumerate(X_train.columns):\n",
    "    print(f\"{name}: \\t {np.absolute(weights[0][i])}\")"
   ]
  },
  {
   "cell_type": "code",
   "execution_count": 12,
   "metadata": {},
   "outputs": [
    {
     "data": {
      "text/plain": [
       "['lrm.scaler']"
      ]
     },
     "execution_count": 12,
     "metadata": {},
     "output_type": "execute_result"
    }
   ],
   "source": [
    "from joblib import dump, load\n",
    "dump(model2, 'attrition_pred.lrm') \n",
    "dump(X_scaler, 'lrm.scaler')\n"
   ]
  },
  {
   "cell_type": "code",
   "execution_count": 13,
   "metadata": {},
   "outputs": [
    {
     "name": "stdout",
     "output_type": "stream",
     "text": [
      "              precision    recall  f1-score   support\n",
      "\n",
      "           0       0.89      0.91      0.90      1233\n",
      "           1       0.47      0.43      0.45       237\n",
      "\n",
      "    accuracy                           0.83      1470\n",
      "   macro avg       0.68      0.67      0.67      1470\n",
      "weighted avg       0.82      0.83      0.83      1470\n",
      "\n"
     ]
    }
   ],
   "source": [
    "model3=load('attrition_pred.lrm')\n",
    "scaler=load('lrm.scaler')\n",
    "test=model.predict(X)\n",
    "print(classification_report(y,test))"
   ]
  },
  {
   "cell_type": "code",
   "execution_count": 14,
   "metadata": {},
   "outputs": [],
   "source": [
    "# test={'TrainingTimesLastYear':[2],\n",
    "# 'DistanceFromHome':[50],\n",
    "# 'JobSatisfaction':[1],\n",
    "# 'TotalWorkingYears':[3],\n",
    "# 'MaritalStatus_Divorced':[0],\n",
    "# 'MaritalStatus_Married':[0],\n",
    "# 'MaritalStatus_Single':[1],\n",
    "# 'MonthlyIncome':[5000]\n",
    "#      }\n",
    "# test=pd.DataFrame(test)\n",
    "# test=scaler.transform(test)\n",
    "# model3.predict(test)[0]"
   ]
  },
  {
   "cell_type": "code",
   "execution_count": 15,
   "metadata": {},
   "outputs": [
    {
     "data": {
      "text/html": [
       "<div>\n",
       "<style scoped>\n",
       "    .dataframe tbody tr th:only-of-type {\n",
       "        vertical-align: middle;\n",
       "    }\n",
       "\n",
       "    .dataframe tbody tr th {\n",
       "        vertical-align: top;\n",
       "    }\n",
       "\n",
       "    .dataframe thead th {\n",
       "        text-align: right;\n",
       "    }\n",
       "</style>\n",
       "<table border=\"1\" class=\"dataframe\">\n",
       "  <thead>\n",
       "    <tr style=\"text-align: right;\">\n",
       "      <th></th>\n",
       "      <th>Fidelity</th>\n",
       "      <th>SalesDpt</th>\n",
       "      <th>OverTime_No</th>\n",
       "      <th>OverTime_Yes</th>\n",
       "      <th>MaritalStatus_Divorced</th>\n",
       "      <th>MaritalStatus_Married</th>\n",
       "      <th>MaritalStatus_Single</th>\n",
       "      <th>Gender_Female</th>\n",
       "      <th>Gender_Male</th>\n",
       "    </tr>\n",
       "  </thead>\n",
       "  <tbody>\n",
       "    <tr>\n",
       "      <th>0</th>\n",
       "      <td>1.000000</td>\n",
       "      <td>1</td>\n",
       "      <td>0</td>\n",
       "      <td>1</td>\n",
       "      <td>0</td>\n",
       "      <td>0</td>\n",
       "      <td>1</td>\n",
       "      <td>1</td>\n",
       "      <td>0</td>\n",
       "    </tr>\n",
       "    <tr>\n",
       "      <th>1</th>\n",
       "      <td>0.100000</td>\n",
       "      <td>0</td>\n",
       "      <td>1</td>\n",
       "      <td>0</td>\n",
       "      <td>0</td>\n",
       "      <td>1</td>\n",
       "      <td>0</td>\n",
       "      <td>0</td>\n",
       "      <td>1</td>\n",
       "    </tr>\n",
       "    <tr>\n",
       "      <th>2</th>\n",
       "      <td>0.857143</td>\n",
       "      <td>0</td>\n",
       "      <td>0</td>\n",
       "      <td>1</td>\n",
       "      <td>0</td>\n",
       "      <td>0</td>\n",
       "      <td>1</td>\n",
       "      <td>0</td>\n",
       "      <td>1</td>\n",
       "    </tr>\n",
       "    <tr>\n",
       "      <th>3</th>\n",
       "      <td>0.125000</td>\n",
       "      <td>0</td>\n",
       "      <td>0</td>\n",
       "      <td>1</td>\n",
       "      <td>0</td>\n",
       "      <td>1</td>\n",
       "      <td>0</td>\n",
       "      <td>1</td>\n",
       "      <td>0</td>\n",
       "    </tr>\n",
       "    <tr>\n",
       "      <th>4</th>\n",
       "      <td>1.500000</td>\n",
       "      <td>0</td>\n",
       "      <td>1</td>\n",
       "      <td>0</td>\n",
       "      <td>0</td>\n",
       "      <td>1</td>\n",
       "      <td>0</td>\n",
       "      <td>0</td>\n",
       "      <td>1</td>\n",
       "    </tr>\n",
       "  </tbody>\n",
       "</table>\n",
       "</div>"
      ],
      "text/plain": [
       "   Fidelity  SalesDpt  OverTime_No  OverTime_Yes  MaritalStatus_Divorced  \\\n",
       "0  1.000000         1            0             1                       0   \n",
       "1  0.100000         0            1             0                       0   \n",
       "2  0.857143         0            0             1                       0   \n",
       "3  0.125000         0            0             1                       0   \n",
       "4  1.500000         0            1             0                       0   \n",
       "\n",
       "   MaritalStatus_Married  MaritalStatus_Single  Gender_Female  Gender_Male  \n",
       "0                      0                     1              1            0  \n",
       "1                      1                     0              0            1  \n",
       "2                      0                     1              0            1  \n",
       "3                      1                     0              1            0  \n",
       "4                      1                     0              0            1  "
      ]
     },
     "execution_count": 15,
     "metadata": {},
     "output_type": "execute_result"
    }
   ],
   "source": [
    "X.head()"
   ]
  },
  {
   "cell_type": "code",
   "execution_count": 16,
   "metadata": {},
   "outputs": [
    {
     "data": {
      "text/html": [
       "<div>\n",
       "<style scoped>\n",
       "    .dataframe tbody tr th:only-of-type {\n",
       "        vertical-align: middle;\n",
       "    }\n",
       "\n",
       "    .dataframe tbody tr th {\n",
       "        vertical-align: top;\n",
       "    }\n",
       "\n",
       "    .dataframe thead th {\n",
       "        text-align: right;\n",
       "    }\n",
       "</style>\n",
       "<table border=\"1\" class=\"dataframe\">\n",
       "  <thead>\n",
       "    <tr style=\"text-align: right;\">\n",
       "      <th></th>\n",
       "      <th>Gender_Male</th>\n",
       "    </tr>\n",
       "  </thead>\n",
       "  <tbody>\n",
       "    <tr>\n",
       "      <th>0</th>\n",
       "      <td>1</td>\n",
       "    </tr>\n",
       "    <tr>\n",
       "      <th>1</th>\n",
       "      <td>1</td>\n",
       "    </tr>\n",
       "  </tbody>\n",
       "</table>\n",
       "</div>"
      ],
      "text/plain": [
       "   Gender_Male\n",
       "0            1\n",
       "1            1"
      ]
     },
     "execution_count": 16,
     "metadata": {},
     "output_type": "execute_result"
    }
   ],
   "source": [
    "testdf=pd.DataFrame({\"Gender\":[\"Male\",\"Male\"]})\n",
    "pd.get_dummies(testdf)"
   ]
  },
  {
   "cell_type": "code",
   "execution_count": null,
   "metadata": {},
   "outputs": [],
   "source": []
  }
 ],
 "metadata": {
  "kernelspec": {
   "display_name": "Python [conda env:PythonData]",
   "language": "python",
   "name": "conda-env-PythonData-py"
  },
  "language_info": {
   "codemirror_mode": {
    "name": "ipython",
    "version": 3
   },
   "file_extension": ".py",
   "mimetype": "text/x-python",
   "name": "python",
   "nbconvert_exporter": "python",
   "pygments_lexer": "ipython3",
   "version": "3.6.10"
  }
 },
 "nbformat": 4,
 "nbformat_minor": 4
}
